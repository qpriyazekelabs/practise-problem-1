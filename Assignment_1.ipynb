{
 "cells": [
  {
   "cell_type": "code",
   "execution_count": 4,
   "metadata": {},
   "outputs": [
    {
     "name": "stdout",
     "output_type": "stream",
     "text": [
      "Number of\n",
      "2000\n",
      "notes\n",
      "1\n",
      "Number of\n",
      "500\n",
      "notes\n",
      "1\n",
      "Number of\n",
      "100\n",
      "notes\n",
      "0\n",
      "Number of\n",
      "50\n",
      "notes\n",
      "0\n",
      "Number of\n",
      "20\n",
      "notes\n",
      "0\n",
      "Number of\n",
      "10\n",
      "notes\n",
      "1\n"
     ]
    }
   ],
   "source": [
    "l = [2000, 500, 100, 50, 20,10]\n",
    "amount = 2510\n",
    "for i in range(6):\n",
    "    note=l[i]\n",
    "    count=amount//note\n",
    "    print(\"Number of\")\n",
    "    print(note)\n",
    "    print(\"notes\")\n",
    "    print(count)\n",
    "    amount=amount%note\n",
    "    "
   ]
  },
  {
   "cell_type": "code",
   "execution_count": 33,
   "metadata": {},
   "outputs": [],
   "source": [
    "d = {\"2\":\"abc\",\"3\":\"def\",\"4\":\"ghi\",\"5\":\"jkl\",\"6\":\"mno\",\"7\":\"pqrs\",\"8\":\"tuv\",\"9\":\"xyz\"}\n",
    "n = 9999335533\n",
    "m = str(9999335533)\n",
    "if m in d.keys():\n",
    "    print(d.values())"
   ]
  },
  {
   "cell_type": "code",
   "execution_count": 11,
   "metadata": {},
   "outputs": [
    {
     "name": "stdout",
     "output_type": "stream",
     "text": [
      "The strings are not anagrams\n"
     ]
    }
   ],
   "source": [
    "s1=\"Army\"\n",
    "s2=\"Mary\"\n",
    "print(s1, s2)\n",
    "if(sorted(s1)==sorted(s2)):\n",
    "    print(\"The strings are anagrams\")\n",
    "else:\n",
    "    print(\"The strings are not anagrams\")"
   ]
  },
  {
   "cell_type": "code",
   "execution_count": 24,
   "metadata": {},
   "outputs": [
    {
     "name": "stdout",
     "output_type": "stream",
     "text": [
      "[1, 2, 3, 4, 5]\n",
      "The pair of numbers whose sum is 7\n",
      "2 5\n",
      "3 4\n",
      "4 3\n",
      "5 2\n"
     ]
    }
   ],
   "source": [
    "l = [1,2,3,4,5]\n",
    "print(str(l))\n",
    "print(\"The pair of numbers whose sum is 7\")\n",
    "for i in range (5):\n",
    "    for j in range(1,5):\n",
    "        if(l[i]+l[j]==7):\n",
    "            print(l[i],l[j])"
   ]
  },
  {
   "cell_type": "code",
   "execution_count": 40,
   "metadata": {},
   "outputs": [
    {
     "name": "stdout",
     "output_type": "stream",
     "text": [
      "The first and second string\n",
      "abc def\n",
      "Third string:\n",
      "dabecf\n",
      "dabecf\n",
      "is a valid shuffle of\n",
      "abc def\n"
     ]
    }
   ],
   "source": [
    "l = \"abc\"\n",
    "l1 = \"def\"\n",
    "l3 = l + l1\n",
    "print(\"The first and second string\")\n",
    "print(l,l1)\n",
    "l4 = \"dabecf\"\n",
    "print(\"Third string:\")\n",
    "print(l4)\n",
    "if(sorted(l3)==sorted(l4)):\n",
    "    print(l4)\n",
    "    print(\"is a valid shuffle of\")\n",
    "    print(l,l1)"
   ]
  },
  {
   "cell_type": "code",
   "execution_count": 47,
   "metadata": {},
   "outputs": [
    {
     "name": "stdout",
     "output_type": "stream",
     "text": [
      "[12, 90, 100, 52, 56, 76, 92, 83, 39, 77, 73, 70, 80]\n",
      "The scores in range\n",
      "91 1\n",
      "61 2\n",
      "71 3\n",
      "81 4\n",
      "91 5\n",
      "61 6\n",
      "71 7\n",
      "81 8\n",
      "91 9\n",
      "81 10\n",
      "91 11\n",
      "91 12\n",
      "41 13\n",
      "51 14\n",
      "61 15\n",
      "71 16\n",
      "81 17\n",
      "91 18\n",
      "81 19\n",
      "91 20\n",
      "81 21\n",
      "91 22\n",
      "71 23\n",
      "81 24\n",
      "91 25\n",
      "81 26\n",
      "91 27\n"
     ]
    }
   ],
   "source": [
    "l = [12,90,100,52,56,76,92,83,39,77,73,70,80]\n",
    "l1 = sorted(l)\n",
    "print(l)\n",
    "count = 0\n",
    "print(\"The scores in range\")\n",
    "for i in range(1,13):\n",
    "    for j in range(1,100,10):\n",
    "        if(l[i])<=j:\n",
    "            count = count + 1\n",
    "            print(j,count)\n",
    "            \n",
    "    "
   ]
  },
  {
   "cell_type": "code",
   "execution_count": null,
   "metadata": {},
   "outputs": [],
   "source": []
  }
 ],
 "metadata": {
  "kernelspec": {
   "display_name": "Python 3",
   "language": "python",
   "name": "python3"
  },
  "language_info": {
   "codemirror_mode": {
    "name": "ipython",
    "version": 3
   },
   "file_extension": ".py",
   "mimetype": "text/x-python",
   "name": "python",
   "nbconvert_exporter": "python",
   "pygments_lexer": "ipython3",
   "version": "3.7.4"
  }
 },
 "nbformat": 4,
 "nbformat_minor": 2
}

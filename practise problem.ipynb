{
 "cells": [
  {
   "cell_type": "code",
   "execution_count": 11,
   "metadata": {},
   "outputs": [
    {
     "ename": "SyntaxError",
     "evalue": "invalid syntax (<ipython-input-11-2bc8f0949879>, line 2)",
     "output_type": "error",
     "traceback": [
      "\u001b[1;36m  File \u001b[1;32m\"<ipython-input-11-2bc8f0949879>\"\u001b[1;36m, line \u001b[1;32m2\u001b[0m\n\u001b[1;33m    if( s%2 = 0):\u001b[0m\n\u001b[1;37m            ^\u001b[0m\n\u001b[1;31mSyntaxError\u001b[0m\u001b[1;31m:\u001b[0m invalid syntax\n"
     ]
    }
   ],
   "source": [
    "s = 4\n",
    "if( s%2 = 0):\n",
    "    print(\"This is an even number\")\n",
    "else:\n",
    "    print(\"This is an odd number\")"
   ]
  },
  {
   "cell_type": "code",
   "execution_count": 12,
   "metadata": {},
   "outputs": [
    {
     "name": "stdout",
     "output_type": "stream",
     "text": [
      "3\n"
     ]
    }
   ],
   "source": [
    "s = 1\n",
    "s1 = 2\n",
    "print(s+s1)"
   ]
  },
  {
   "cell_type": "code",
   "execution_count": 20,
   "metadata": {},
   "outputs": [
    {
     "name": "stdout",
     "output_type": "stream",
     "text": [
      "The even numbers in the list\n",
      "0\n",
      "2\n",
      "4\n",
      "The odd numbers in the list\n",
      "1\n",
      "3\n",
      "5\n"
     ]
    }
   ],
   "source": [
    "\n",
    "even = 0\n",
    "odd = 0\n",
    "print(\"The even numbers in the list\")\n",
    "for i in range (0,6):\n",
    "    if(i%2 == 0):\n",
    "        print(i)\n",
    "        \n",
    "print(\"The odd numbers in the list\")        \n",
    "for i in range (0,6):\n",
    "    if(i%2 != 0):\n",
    "        print(i)     \n",
    "       \n"
   ]
  },
  {
   "cell_type": "code",
   "execution_count": 23,
   "metadata": {},
   "outputs": [
    {
     "name": "stdout",
     "output_type": "stream",
     "text": [
      "40\n"
     ]
    }
   ],
   "source": [
    "num1 = 10\n",
    "num2 = 10\n",
    "if(num1 == num2):\n",
    "    print((num1+num2)*2)\n",
    "else:\n",
    "    print(num1+num2)"
   ]
  },
  {
   "cell_type": "code",
   "execution_count": 25,
   "metadata": {},
   "outputs": [
    {
     "name": "stdout",
     "output_type": "stream",
     "text": [
      "The profit is:\n",
      "50\n"
     ]
    }
   ],
   "source": [
    "sp = 100\n",
    "cp = 50\n",
    "if(sp>cp):\n",
    "    profit=sp-cp\n",
    "    print(\"The profit is:\")\n",
    "    print(profit)\n",
    "else:\n",
    "    loss=cp-sp\n",
    "    print(\"The loss is:\")\n",
    "    print(loss)"
   ]
  },
  {
   "cell_type": "code",
   "execution_count": 28,
   "metadata": {},
   "outputs": [
    {
     "name": "stdout",
     "output_type": "stream",
     "text": [
      "3.141592653589793\n"
     ]
    }
   ],
   "source": [
    "import math\n",
    "a=math.radians(30)\n",
    "b=math.radians(90)\n",
    "c=math.radians(60)\n",
    "if(a,b,c > 0):\n",
    "    print(a + b + c)\n",
    "    "
   ]
  },
  {
   "cell_type": "code",
   "execution_count": 31,
   "metadata": {},
   "outputs": [
    {
     "name": "stdout",
     "output_type": "stream",
     "text": [
      "Sum of sides of triangle\n",
      "180\n"
     ]
    }
   ],
   "source": [
    "import math\n",
    "a = 30\n",
    "b = 60\n",
    "c = 90\n",
    "if(a,b,c > 0):\n",
    "    print(\"Sum of sides of triangle\")\n",
    "    print(a+b+c)"
   ]
  },
  {
   "cell_type": "code",
   "execution_count": null,
   "metadata": {},
   "outputs": [],
   "source": []
  }
 ],
 "metadata": {
  "kernelspec": {
   "display_name": "Python 3",
   "language": "python",
   "name": "python3"
  },
  "language_info": {
   "codemirror_mode": {
    "name": "ipython",
    "version": 3
   },
   "file_extension": ".py",
   "mimetype": "text/x-python",
   "name": "python",
   "nbconvert_exporter": "python",
   "pygments_lexer": "ipython3",
   "version": "3.7.4"
  }
 },
 "nbformat": 4,
 "nbformat_minor": 2
}
